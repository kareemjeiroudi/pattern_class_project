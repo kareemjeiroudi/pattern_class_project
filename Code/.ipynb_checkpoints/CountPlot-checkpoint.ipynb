{
 "cells": [
  {
   "cell_type": "markdown",
   "metadata": {},
   "source": [
    "Read data from `arff`"
   ]
  },
  {
   "cell_type": "code",
   "execution_count": 1,
   "metadata": {},
   "outputs": [],
   "source": [
    "from scipy.io import arff\n",
    "with open('../data/train_arff/1.music.arff', 'r') as f:\n",
    "        data, meta = arff.loadarff(f)"
   ]
  },
  {
   "cell_type": "markdown",
   "metadata": {},
   "source": [
    "Convert Data to matrix `X` and depedent variable `y` (Applied to only first file)"
   ]
  },
  {
   "cell_type": "code",
   "execution_count": 3,
   "metadata": {},
   "outputs": [],
   "source": [
    "import pandas as pd \n",
    "import numpy as np\n",
    "dataset = pd.DataFrame(data)\n",
    "X = dataset.iloc[:,:-1].values\n",
    "y = np.array([1 if str(w, 'utf-8') == 'music' else 0 for w in dataset.iloc[:, -1]])"
   ]
  },
  {
   "cell_type": "markdown",
   "metadata": {},
   "source": [
    "Create a countplot (barplot) where y-axis is a count"
   ]
  },
  {
   "cell_type": "code",
   "execution_count": 87,
   "metadata": {
    "scrolled": true
   },
   "outputs": [
    {
     "data": {
      "image/png": "[encoded data removed]",
      "text/plain": [
       "<Figure size 432x288 with 1 Axes>"
      ]
     },
     "metadata": {
      "needs_background": "light"
     },
     "output_type": "display_data"
    }
   ],
   "source": [
    "## With labels\n",
    "%matplotlib inline\n",
    "from matplotlib import pyplot as plt\n",
    "from seaborn import countplot\n",
    "dataset.iloc[:,-1] = np.array([\"music\" if i == 1 else \"no_music\" for i in y])\n",
    "ax = countplot(x=\"class\", data=dataset)"
   ]
  },
  {
   "cell_type": "markdown",
   "metadata": {},
   "source": [
    "---------\n",
    "\n",
    "As of here, I do the same for all files:\n",
    "1. Collect file names in a list\n",
    "2. load `dataset`, `X` and `y` using the `load_arfffile()` function\n",
    "3. in a `for` loop creata a subplot for each `countplot`.\n",
    "\n",
    "Collect the names of all music files in the directory"
   ]
  },
  {
   "cell_type": "code",
   "execution_count": 1,
   "metadata": {},
   "outputs": [],
   "source": [
    "import os\n",
    "## Collect names for all files\n",
    "path = r\"../data/train_arff/\"\n",
    "music_files = [path+file for file in os.listdir(path) if 'music' in file]\n",
    "## Collect name of speech files\n",
    "speech_files = [path+file for file in os.listdir(path) if 'speech' in file]"
   ]
  },
  {
   "cell_type": "code",
   "execution_count": 5,
   "metadata": {},
   "outputs": [],
   "source": [
    "from scipy.io import arff\n",
    "def load_arfffile(file_path):\n",
    "    \"\"\"Finds the feature matrix X and class vector y for given a file path\n",
    "    Params:\n",
    "    -------\n",
    "        file_path: (string) the relative path to the .arff file\n",
    "    \n",
    "    Returns:\n",
    "    -------\n",
    "        dataset (DataFrame from pandas) with headers correspondign to each features. It also includes the the dependet variable y.\n",
    "        X: (nd.numpymatrix) The features matrix X consisting of only values, no headers are included.\n",
    "        y: (n.numpyarray) vector of length = l where l is the number of instances in the dataset.\n",
    "    \"\"\"\n",
    "    try:\n",
    "        with open(file_path, 'r') as f:\n",
    "            data, meta = arff.loadarff(f)\n",
    "            print(file_path, \"has\", len(data), \"training examples\")\n",
    "        dataset = pd.DataFrame(data)\n",
    "        X = dataset.iloc[:,:-1].values\n",
    "        y = np.array([1 if str(w, 'utf-8') == 'music' else 0 for w in dataset.iloc[:, -1]])\n",
    "        dataset.iloc[:,-1] = np.array([\"music\" if i == 1 else \"no_music\" for i in y])\n",
    "        return dataset, X, y\n",
    "    except EOFError:\n",
    "        print(\"File is unreadable!\")\n",
    "        return None"
   ]
  },
  {
   "cell_type": "markdown",
   "metadata": {},
   "source": [
    "The following two cells will be deleted. I just want to test using 3 subplots together."
   ]
  },
  {
   "cell_type": "code",
   "execution_count": null,
   "metadata": {
    "scrolled": true
   },
   "outputs": [
    {
     "name": "stdout",
     "output_type": "stream",
     "text": [
      "Using matplotlib backend: MacOSX\n"
     ]
    }
   ],
   "source": [
    "%matplotlib auto\n",
    "import matplotlib.pyplot as plt\n",
    "import pandas as pd\n",
    "import numpy as np\n",
    "from seaborn import countplot\n",
    "\n",
    "\"\"\"\n",
    "Given X_train matrix and X_test matirx that follow a time series, it plots the first 9 features\n",
    "sequentially.\n",
    "\"\"\"\n",
    "fig, ax = plt.subplots(7, 2, sharey=False, sharex=True) # two axes on figure\n",
    "\n",
    "for i in range(int(len(music_files)/2)):\n",
    "    for j in range(2):\n",
    "        dataset, X, y = load_arfffile(music_files[i+j])\n",
    "        countplot(x=\"class\", data=dataset, ax=ax[i, j])\n",
    "fig.suptitle(\"Feature Trend\")\n",
    "# fig.text(0.06, 0.5, 'Signal', ha='center', va='center', rotation='vertical')\n",
    "fig.savefig('../Info/Class_Imbalance.png')\n",
    "fig.show()"
   ]
  },
  {
   "cell_type": "code",
   "execution_count": 11,
   "metadata": {},
   "outputs": [],
   "source": []
  }
 ],
 "metadata": {
  "kernelspec": {
   "display_name": "Python 3",
   "language": "python",
   "name": "python3"
  },
  "language_info": {
   "codemirror_mode": {
    "name": "ipython",
    "version": 3
   },
   "file_extension": ".py",
   "mimetype": "text/x-python",
   "name": "python",
   "nbconvert_exporter": "python",
   "pygments_lexer": "ipython3",
   "version": "3.5.5"
  }
 },
 "nbformat": 4,
 "nbformat_minor": 2
}
