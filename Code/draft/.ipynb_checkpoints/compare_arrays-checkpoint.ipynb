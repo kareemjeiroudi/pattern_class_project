{
 "cells": [
  {
   "cell_type": "markdown",
   "metadata": {},
   "source": [
    "# Compare Two Arrays\n",
    "\n",
    "@author: Kareem<br>\n",
    "@date: 28.04.2019\n",
    "\n",
    "script to compare the speed of reading numpy arrays vs. from `.arff` files also test the sanity of the function `np.loadtxt()`\n",
    "\n",
    "Try changing `2.X_music` to `3.X_music`, or `2.X_music` to `2.X_speech` and see the changes.\n",
    "\n",
    "The path used to read the file is always the relative path to this file."
   ]
  },
  {
   "cell_type": "code",
   "execution_count": 11,
   "metadata": {
    "scrolled": true
   },
   "outputs": [
    {
     "name": "stdout",
     "output_type": "stream",
     "text": [
      "Reading from numpy:  0:00:11.699109\n"
     ]
    }
   ],
   "source": [
    "import numpy as np\n",
    "import pandas as pd\n",
    "from matplotlib import pyplot as plt\n",
    "\n",
    "from scipy.io import arff\n",
    "from datetime import datetime\n",
    "\n",
    "start = datetime.now()\n",
    "# load first matrix\n",
    "X1 = np.loadtxt('../../data/train_Xy_numpy/2.X_music',  delimiter=' ', comments='# ', encoding=None)\n",
    "print(\"Reading from numpy: \", datetime.now()-start)"
   ]
  },
  {
   "cell_type": "code",
   "execution_count": 12,
   "metadata": {},
   "outputs": [
    {
     "name": "stdout",
     "output_type": "stream",
     "text": [
      "Reading from arff:  0:00:05.637272\n"
     ]
    }
   ],
   "source": [
    "start = datetime.now()\n",
    "with open('../../data/train_arff/2.music.arff', 'r') as f:\n",
    "    data, meta = arff.loadarff(f)\n",
    "    ## Convert to a datafram for plotting\n",
    "    dataset = pd.DataFrame(data)\n",
    "X2 = dataset.iloc[:,:-1].values     \n",
    "print(\"Reading from arff: \", datetime.now()-start)"
   ]
  },
  {
   "cell_type": "code",
   "execution_count": 13,
   "metadata": {},
   "outputs": [
    {
     "data": {
      "text/plain": [
       "True"
      ]
     },
     "execution_count": 13,
     "metadata": {},
     "output_type": "execute_result"
    }
   ],
   "source": [
    "np.array_equal(X1, X2)"
   ]
  },
  {
   "cell_type": "markdown",
   "metadata": {},
   "source": [
    "## Results\n",
    "\n",
    "* arff is a lot faster than (almost double as fast as numpy)\n",
    "* function `np.loadtxt()` correctly reads the arrays and with the right dimensions too"
   ]
  }
 ],
 "metadata": {
  "kernelspec": {
   "display_name": "Python 3",
   "language": "python",
   "name": "python3"
  },
  "language_info": {
   "codemirror_mode": {
    "name": "ipython",
    "version": 3
   },
   "file_extension": ".py",
   "mimetype": "text/x-python",
   "name": "python",
   "nbconvert_exporter": "python",
   "pygments_lexer": "ipython3",
   "version": "3.5.5"
  }
 },
 "nbformat": 4,
 "nbformat_minor": 2
}
