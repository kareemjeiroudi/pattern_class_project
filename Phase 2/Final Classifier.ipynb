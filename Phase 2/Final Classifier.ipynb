{
 "cells": [
  {
   "cell_type": "markdown",
   "metadata": {},
   "source": [
    "# Final Classifier for Music"
   ]
  },
  {
   "cell_type": "markdown",
   "metadata": {},
   "source": [
    "## Imports"
   ]
  },
  {
   "cell_type": "code",
   "execution_count": null,
   "metadata": {},
   "outputs": [],
   "source": [
    "import matplotlib.pyplot as plt\n",
    "import numpy as np\n",
    "import pandas as pd\n",
    "\n",
    "from sklearn.linear_model import LogisticRegression\n",
    "from sklearn.metrics import roc_curve, auc, roc_auc_score, accuracy_score\n",
    "\n",
    "from scipy.io import arff"
   ]
  },
  {
   "cell_type": "markdown",
   "metadata": {},
   "source": [
    "## Data Loading"
   ]
  },
  {
   "cell_type": "code",
   "execution_count": 30,
   "metadata": {},
   "outputs": [
    {
     "name": "stdout",
     "output_type": "stream",
     "text": [
      "Start Program\n",
      "Loaded training set\n",
      "Loaded validation set\n",
      "Loaded features\n"
     ]
    },
    {
     "data": {
      "text/html": [
       "<div>\n",
       "<style scoped>\n",
       "    .dataframe tbody tr th:only-of-type {\n",
       "        vertical-align: middle;\n",
       "    }\n",
       "\n",
       "    .dataframe tbody tr th {\n",
       "        vertical-align: top;\n",
       "    }\n",
       "\n",
       "    .dataframe thead th {\n",
       "        text-align: right;\n",
       "    }\n",
       "</style>\n",
       "<table border=\"1\" class=\"dataframe\">\n",
       "  <thead>\n",
       "    <tr style=\"text-align: right;\">\n",
       "      <th></th>\n",
       "      <th>f000051</th>\n",
       "      <th>f000059</th>\n",
       "      <th>f000063</th>\n",
       "      <th>f000071</th>\n",
       "      <th>f000072</th>\n",
       "      <th>f000081</th>\n",
       "      <th>f000082</th>\n",
       "      <th>f000087</th>\n",
       "      <th>f000092</th>\n",
       "      <th>f000093</th>\n",
       "      <th>...</th>\n",
       "      <th>f000449</th>\n",
       "      <th>f000452</th>\n",
       "      <th>f000465</th>\n",
       "      <th>f000466</th>\n",
       "      <th>f000477</th>\n",
       "      <th>f000480</th>\n",
       "      <th>f000481</th>\n",
       "      <th>f000507</th>\n",
       "      <th>f000704</th>\n",
       "      <th>f000705</th>\n",
       "    </tr>\n",
       "  </thead>\n",
       "  <tbody>\n",
       "    <tr>\n",
       "      <th>0</th>\n",
       "      <td>0.08</td>\n",
       "      <td>0.19</td>\n",
       "      <td>0.14</td>\n",
       "      <td>0.11</td>\n",
       "      <td>0.16</td>\n",
       "      <td>0.05</td>\n",
       "      <td>0.06</td>\n",
       "      <td>0.16</td>\n",
       "      <td>0.12</td>\n",
       "      <td>0.14</td>\n",
       "      <td>...</td>\n",
       "      <td>0.01</td>\n",
       "      <td>-0.01</td>\n",
       "      <td>0.05</td>\n",
       "      <td>-0.05</td>\n",
       "      <td>-0.02</td>\n",
       "      <td>-0.01</td>\n",
       "      <td>0.01</td>\n",
       "      <td>0.0</td>\n",
       "      <td>291.053</td>\n",
       "      <td>1.69815</td>\n",
       "    </tr>\n",
       "    <tr>\n",
       "      <th>1</th>\n",
       "      <td>0.08</td>\n",
       "      <td>0.19</td>\n",
       "      <td>0.14</td>\n",
       "      <td>0.11</td>\n",
       "      <td>0.16</td>\n",
       "      <td>0.05</td>\n",
       "      <td>0.06</td>\n",
       "      <td>0.16</td>\n",
       "      <td>0.12</td>\n",
       "      <td>0.14</td>\n",
       "      <td>...</td>\n",
       "      <td>0.01</td>\n",
       "      <td>-0.01</td>\n",
       "      <td>0.05</td>\n",
       "      <td>-0.05</td>\n",
       "      <td>-0.02</td>\n",
       "      <td>-0.01</td>\n",
       "      <td>0.01</td>\n",
       "      <td>0.0</td>\n",
       "      <td>291.053</td>\n",
       "      <td>1.69815</td>\n",
       "    </tr>\n",
       "    <tr>\n",
       "      <th>2</th>\n",
       "      <td>0.08</td>\n",
       "      <td>0.19</td>\n",
       "      <td>0.14</td>\n",
       "      <td>0.11</td>\n",
       "      <td>0.16</td>\n",
       "      <td>0.05</td>\n",
       "      <td>0.06</td>\n",
       "      <td>0.16</td>\n",
       "      <td>0.12</td>\n",
       "      <td>0.14</td>\n",
       "      <td>...</td>\n",
       "      <td>0.01</td>\n",
       "      <td>-0.01</td>\n",
       "      <td>0.05</td>\n",
       "      <td>-0.05</td>\n",
       "      <td>-0.02</td>\n",
       "      <td>-0.01</td>\n",
       "      <td>0.01</td>\n",
       "      <td>0.0</td>\n",
       "      <td>291.053</td>\n",
       "      <td>1.69815</td>\n",
       "    </tr>\n",
       "    <tr>\n",
       "      <th>3</th>\n",
       "      <td>0.08</td>\n",
       "      <td>0.19</td>\n",
       "      <td>0.14</td>\n",
       "      <td>0.11</td>\n",
       "      <td>0.16</td>\n",
       "      <td>0.05</td>\n",
       "      <td>0.06</td>\n",
       "      <td>0.16</td>\n",
       "      <td>0.12</td>\n",
       "      <td>0.14</td>\n",
       "      <td>...</td>\n",
       "      <td>0.01</td>\n",
       "      <td>-0.01</td>\n",
       "      <td>0.05</td>\n",
       "      <td>-0.05</td>\n",
       "      <td>-0.02</td>\n",
       "      <td>-0.01</td>\n",
       "      <td>0.01</td>\n",
       "      <td>0.0</td>\n",
       "      <td>291.053</td>\n",
       "      <td>1.69815</td>\n",
       "    </tr>\n",
       "    <tr>\n",
       "      <th>4</th>\n",
       "      <td>0.08</td>\n",
       "      <td>0.19</td>\n",
       "      <td>0.14</td>\n",
       "      <td>0.11</td>\n",
       "      <td>0.16</td>\n",
       "      <td>0.05</td>\n",
       "      <td>0.06</td>\n",
       "      <td>0.16</td>\n",
       "      <td>0.12</td>\n",
       "      <td>0.14</td>\n",
       "      <td>...</td>\n",
       "      <td>0.01</td>\n",
       "      <td>-0.01</td>\n",
       "      <td>0.05</td>\n",
       "      <td>-0.05</td>\n",
       "      <td>-0.02</td>\n",
       "      <td>-0.01</td>\n",
       "      <td>0.01</td>\n",
       "      <td>0.0</td>\n",
       "      <td>291.053</td>\n",
       "      <td>1.69815</td>\n",
       "    </tr>\n",
       "  </tbody>\n",
       "</table>\n",
       "<p>5 rows × 105 columns</p>\n",
       "</div>"
      ],
      "text/plain": [
       "   f000051  f000059  f000063  f000071  f000072  f000081  f000082  f000087  \\\n",
       "0     0.08     0.19     0.14     0.11     0.16     0.05     0.06     0.16   \n",
       "1     0.08     0.19     0.14     0.11     0.16     0.05     0.06     0.16   \n",
       "2     0.08     0.19     0.14     0.11     0.16     0.05     0.06     0.16   \n",
       "3     0.08     0.19     0.14     0.11     0.16     0.05     0.06     0.16   \n",
       "4     0.08     0.19     0.14     0.11     0.16     0.05     0.06     0.16   \n",
       "\n",
       "   f000092  f000093   ...     f000449  f000452  f000465  f000466  f000477  \\\n",
       "0     0.12     0.14   ...        0.01    -0.01     0.05    -0.05    -0.02   \n",
       "1     0.12     0.14   ...        0.01    -0.01     0.05    -0.05    -0.02   \n",
       "2     0.12     0.14   ...        0.01    -0.01     0.05    -0.05    -0.02   \n",
       "3     0.12     0.14   ...        0.01    -0.01     0.05    -0.05    -0.02   \n",
       "4     0.12     0.14   ...        0.01    -0.01     0.05    -0.05    -0.02   \n",
       "\n",
       "   f000480  f000481  f000507  f000704  f000705  \n",
       "0    -0.01     0.01      0.0  291.053  1.69815  \n",
       "1    -0.01     0.01      0.0  291.053  1.69815  \n",
       "2    -0.01     0.01      0.0  291.053  1.69815  \n",
       "3    -0.01     0.01      0.0  291.053  1.69815  \n",
       "4    -0.01     0.01      0.0  291.053  1.69815  \n",
       "\n",
       "[5 rows x 105 columns]"
      ]
     },
     "execution_count": 30,
     "metadata": {},
     "output_type": "execute_result"
    }
   ],
   "source": [
    "def loadJSON(path):\n",
    "    with open(path, 'r') as f:\n",
    "        return json.load(f)\n",
    "\n",
    "train_data_path = r'data/music_train_set.csv'\n",
    "val_data_path = r'data/music_validation_set.csv'\n",
    "feature_path = r'data/music_selected_features.txt'\n",
    "print(\"Start Program\")\n",
    "dataset_train = pd.read_csv(train_data_path)\n",
    "print(\"Loaded training set\")\n",
    "dataset_val = pd.read_csv(val_data_path)\n",
    "print(\"Loaded validation set\")\n",
    "features = loadJSON(featurePath)\n",
    "print(\"Loaded features\")\n",
    "\n",
    "X_train = dataset_train[features].values\n",
    "y_train = np.array(dataset_train.iloc[:, -1])\n",
    "\n",
    "X_val = dataset_val[features].values\n",
    "y_val = np.array(dataset_val.iloc[:, -1])\n",
    "\n",
    "dataset_train[features].head()"
   ]
  },
  {
   "cell_type": "code",
   "execution_count": 31,
   "metadata": {},
   "outputs": [],
   "source": [
    "def plotROC(solution, prediction, classifierName):\n",
    "    lw = 2\n",
    "    fpr, tpr, _ = roc_curve(solution, prediction)\n",
    "    roc_auc = auc(fpr, tpr)\n",
    "    plt.figure()\n",
    "    plt.plot(fpr, tpr, color='darkorange',\n",
    "             lw=lw, label='ROC curve (area = %0.2f)' % roc_auc)\n",
    "    plt.plot([0, 1], [0, 1], color='navy', lw=lw, linestyle='--')\n",
    "    plt.xlim([-0.05, 1.0])\n",
    "    plt.ylim([-0.05, 1.05])\n",
    "    plt.xlabel('False Positive Rate')\n",
    "    plt.ylabel('True Positive Rate')\n",
    "    plt.title('ROC for {}'.format(classifierName))\n",
    "    plt.legend()\n",
    "    plt.show()"
   ]
  },
  {
   "cell_type": "markdown",
   "metadata": {},
   "source": [
    "## Train Logistic Regression"
   ]
  },
  {
   "cell_type": "code",
   "execution_count": 34,
   "metadata": {},
   "outputs": [
    {
     "name": "stdout",
     "output_type": "stream",
     "text": [
      "0.8119670989478439\n"
     ]
    },
    {
     "data": {
      "image/png": "[encoded data removed]",
      "text/plain": [
       "<Figure size 432x288 with 1 Axes>"
      ]
     },
     "metadata": {
      "needs_background": "light"
     },
     "output_type": "display_data"
    }
   ],
   "source": [
    "from sklearn.metrics import accuracy_score\n",
    "logistic_regression = LogisticRegression(C=1.0, class_weight=None, dual=False, fit_intercept=True,\n",
    "                                         intercept_scaling=1, max_iter=100, multi_class='warn',\n",
    "                                         n_jobs=None, penalty='l2', random_state=None, solver='liblinear',\n",
    "                                         tol=0.0001, verbose=0, warm_start=False)\n",
    "\n",
    "logistic_regression.fit(X_train, y_train)\n",
    "lr_pred = logistic_regression.predict(X_val)\n",
    "print(accuracy_score(y_val, lr_pred))\n",
    "plotROC(y_val, lr_pred, \"Logistic Regression\")"
   ]
  },
  {
   "cell_type": "markdown",
   "metadata": {},
   "source": [
    "## Train Random Forest"
   ]
  },
  {
   "cell_type": "code",
   "execution_count": null,
   "metadata": {},
   "outputs": [],
   "source": [
    "random_forest = RandomForestClassifier(bootstrap=True, class_weight=None, criterion='entropy',\n",
    "                                       max_depth=1000, max_features='auto', max_leaf_nodes=None,\n",
    "                                       min_impurity_decrease=0.0, min_impurity_split=None,\n",
    "                                       min_samples_leaf=2, min_samples_split=6,\n",
    "                                       min_weight_fraction_leaf=0.0, n_estimators=50, n_jobs=None,\n",
    "                                       oob_score=False, random_state=0, verbose=0, warm_start=False)"
   ]
  },
  {
   "cell_type": "markdown",
   "metadata": {},
   "source": [
    "## Train Neural Network"
   ]
  },
  {
   "cell_type": "code",
   "execution_count": null,
   "metadata": {},
   "outputs": [],
   "source": [
    "nn = MLPClassifier(activation='relu', alpha=0.0001, batch_size='auto', beta_1=0.9,\n",
    "                   beta_2=0.999, early_stopping=False, epsilon=1e-08,\n",
    "                   hidden_layer_sizes=100, learning_rate='constant',\n",
    "                   learning_rate_init=0.001, max_iter=200, momentum=0.9,\n",
    "                   n_iter_no_change=10, nesterovs_momentum=True, power_t=0.5,\n",
    "                   random_state=0, shuffle=True, solver='adam', tol=0.0001,\n",
    "                   validation_fraction=0.1, verbose=False, warm_start=False)"
   ]
  }
 ],
 "metadata": {
  "kernelspec": {
   "display_name": "Python 3",
   "language": "python",
   "name": "python3"
  },
  "language_info": {
   "codemirror_mode": {
    "name": "ipython",
    "version": 3
   },
   "file_extension": ".py",
   "mimetype": "text/x-python",
   "name": "python",
   "nbconvert_exporter": "python",
   "pygments_lexer": "ipython3",
   "version": "3.7.2"
  }
 },
 "nbformat": 4,
 "nbformat_minor": 2
}
