{
 "cells": [
  {
   "cell_type": "markdown",
   "metadata": {},
   "source": [
    "# Best Speech Classifier\n",
    "\n",
    "In the last notebook [Speech-Classifier-02.ipynb](Speech-Classifier-02.ipynb), we compared classifiers that are optimized for the `profit_score` function. Here we would like to serialze the model so that it's ready for combining decision."
   ]
  },
  {
   "cell_type": "markdown",
   "metadata": {},
   "source": [
    "## Load Data\n",
    "\n",
    "Load data based on best possible combination from last document."
   ]
  },
  {
   "cell_type": "code",
   "execution_count": 13,
   "metadata": {},
   "outputs": [],
   "source": [
    "# load data b\n",
    "import pandas as pd\n",
    "\n",
    "feature_column = pd.read_csv(\"../Data/speech_data/indixes_speech.csv\")['RForSVM'][1:]\n",
    "train_data = pd.read_csv(\"../Data/speech_data/speech_train_set.csv\")\n",
    "val_data = pd.read_csv(\"../Data/speech_data/speech_validation_set.csv\")\n",
    "test_data = pd.read_csv(\"../Data/speech_data/speech_test_set.csv\")"
   ]
  },
  {
   "cell_type": "markdown",
   "metadata": {},
   "source": [
    "### Undersample \n",
    "\n",
    "Shuffle and undersample"
   ]
  },
  {
   "cell_type": "code",
   "execution_count": null,
   "metadata": {},
   "outputs": [],
   "source": [
    "# Shuffle\n",
    "train_data = train_data.sample(frac=1, random_state=0)\n",
    "# Undersampling\n",
    "non_speech = train_data[train_data['class'] == 0]\n",
    "speech = train_data[train_data['class'] == 1][:len(train_data[train_data['class'] == 0])]\n",
    "dataset_train = speech.append(non_speech, ignore_index=True).sample(frac=1, random_state=0)"
   ]
  },
  {
   "cell_type": "markdown",
   "metadata": {},
   "source": [
    "### Split data\n",
    "\n",
    "Split into train, validatin, test."
   ]
  },
  {
   "cell_type": "code",
   "execution_count": null,
   "metadata": {},
   "outputs": [],
   "source": [
    "X_train, y_train = train_data[feature_column], train_data['class']\n",
    "X_val, y_val = val_data[feature_column], val_data['class']\n",
    "X_test, y_test = test_data[feature_column], test_data['class']"
   ]
  },
  {
   "cell_type": "markdown",
   "metadata": {},
   "source": [
    "## Training\n",
    "\n",
    "Fit the model and evaluate other metrics"
   ]
  },
  {
   "cell_type": "code",
   "execution_count": 34,
   "metadata": {
    "scrolled": false
   },
   "outputs": [],
   "source": [
    "from sklearn.ensemble import RandomForestClassifier\n",
    "from sklearn.model_selection import cross_val_score\n",
    "from sklearn.metrics import make_scorer, accuracy_score, confusion_matrix\n",
    "import handsomUtility\n",
    "\n",
    "classifier = RandomForestClassifier(bootstrap=True, class_weight=None, criterion='entropy',\n",
    "                                           max_depth=1000, max_features='auto', max_leaf_nodes=None,\n",
    "                                           min_impurity_decrease=0.0, min_impurity_split=None,\n",
    "                                           min_samples_leaf=2, min_samples_split=6,\n",
    "                                           min_weight_fraction_leaf=0.0, n_estimators=50, n_jobs=-1,\n",
    "                                           oob_score=False, random_state=0, verbose=0, warm_start=False)\n",
    "\n",
    "classifier.fit(X_train, y_train)\n",
    "y_pred = handsomUtility.post_processing(classifier.predict(X_val.values))"
   ]
  },
  {
   "cell_type": "code",
   "execution_count": 46,
   "metadata": {},
   "outputs": [
    {
     "name": "stdout",
     "output_type": "stream",
     "text": [
      "Confusion Matrix: [0.52477931 0.01340134 0.02883548 0.43298387]\n",
      "Accuracy: 0.9577631801840802\n",
      "Actual Profit (after learning): 29560.200000015247\n"
     ]
    },
    {
     "data": {
      "image/png": "[encoded data removed]",
      "text/plain": [
       "<Figure size 432x288 with 1 Axes>"
      ]
     },
     "metadata": {
      "needs_background": "light"
     },
     "output_type": "display_data"
    },
    {
     "data": {
      "text/html": [
       "<style  type=\"text/css\" >\n",
       "</style><table id=\"T_c6c1910a_82fa_11e9_af32_8c8590c1c1c8\" ><caption>Random Forest (RForSVM)</caption><thead>    <tr>        <th class=\"blank level0\" ></th>        <th class=\"col_heading level0 col0\" >accuracy</th>        <th class=\"col_heading level0 col1\" >AUC</th>        <th class=\"col_heading level0 col2\" >Actual Profit</th>        <th class=\"col_heading level0 col3\" >Maximum Profit</th>        <th class=\"col_heading level0 col4\" >TPR</th>        <th class=\"col_heading level0 col5\" >FPR</th>        <th class=\"col_heading level0 col6\" >FNR</th>        <th class=\"col_heading level0 col7\" >TNR</th>    </tr></thead><tbody>\n",
       "                <tr>\n",
       "                        <th id=\"T_c6c1910a_82fa_11e9_af32_8c8590c1c1c8level0_row0\" class=\"row_heading level0 row0\" >Random Forest</th>\n",
       "                        <td id=\"T_c6c1910a_82fa_11e9_af32_8c8590c1c1c8row0_col0\" class=\"data row0 col0\" >0.957763</td>\n",
       "                        <td id=\"T_c6c1910a_82fa_11e9_af32_8c8590c1c1c8row0_col1\" class=\"data row0 col1\" >0.95633</td>\n",
       "                        <td id=\"T_c6c1910a_82fa_11e9_af32_8c8590c1c1c8row0_col2\" class=\"data row0 col2\" >29560.2</td>\n",
       "                        <td id=\"T_c6c1910a_82fa_11e9_af32_8c8590c1c1c8row0_col3\" class=\"data row0 col3\" >34156.2</td>\n",
       "                        <td id=\"T_c6c1910a_82fa_11e9_af32_8c8590c1c1c8row0_col4\" class=\"data row0 col4\" >0.524779</td>\n",
       "                        <td id=\"T_c6c1910a_82fa_11e9_af32_8c8590c1c1c8row0_col5\" class=\"data row0 col5\" >0.0134013</td>\n",
       "                        <td id=\"T_c6c1910a_82fa_11e9_af32_8c8590c1c1c8row0_col6\" class=\"data row0 col6\" >0.0288355</td>\n",
       "                        <td id=\"T_c6c1910a_82fa_11e9_af32_8c8590c1c1c8row0_col7\" class=\"data row0 col7\" >0.432984</td>\n",
       "            </tr>\n",
       "    </tbody></table>"
      ],
      "text/plain": [
       "<pandas.io.formats.style.Styler at 0x122c90d68>"
      ]
     },
     "execution_count": 46,
     "metadata": {},
     "output_type": "execute_result"
    }
   ],
   "source": [
    "accuracy = accuracy_score(y_val, y_pred)\n",
    "cm = confusion_matrix(y_val, y_pred).ravel()/len(y_pred)\n",
    "print(\"Confusion Matrix: {}\".format(cm))\n",
    "print(\"Accuracy: {}\".format(accuracy_score(y_val, y_pred)))\n",
    "print(\"Actual Profit (after learning): {}\".format(handsomUtility.profit_score(y_val, y_pred)))\n",
    "auc = handsomUtility.plotROC(y_val, y_pred, \"Random Forest\")\n",
    "results = {'Accuracy': accuracy, 'AUC': auc, 'Actual Profit': handsomUtility.profit_score(y_val, y_pred), 'Maximum Profit': handsomUtility.profit_score(y_pred, y_pred), 'TPR':cm[0], 'FPR':cm[1], 'FNR':cm[2], 'TNR':cm[3]}\n",
    "pd.DataFrame.from_dict(results, orient=\"index\", columns=['Random Forest']).T.style.set_caption(\"Random Forest (RForSVM)\")"
   ]
  },
  {
   "cell_type": "markdown",
   "metadata": {},
   "source": [
    "## Serialization\n",
    "\n",
    "Serialize the classifier so that we keep the weights."
   ]
  },
  {
   "cell_type": "code",
   "execution_count": 49,
   "metadata": {},
   "outputs": [],
   "source": [
    "import pickle\n",
    "with open('../SpeechClassifier/best-speech-classifier.pkl', 'wb') as dump_file:\n",
    "    pickle.dump()\n",
    "    pickle.dump(classifier, dump_file) "
   ]
  },
  {
   "cell_type": "markdown",
   "metadata": {},
   "source": [
    "To load, use"
   ]
  },
  {
   "cell_type": "code",
   "execution_count": 51,
   "metadata": {},
   "outputs": [],
   "source": [
    "import pickle\n",
    "# load it again\n",
    "with open('../SpeechClassifier/best-speech-classifier.pkl', 'rb') as dump_file:\n",
    "    classifier_2 = pickle.load(dump_file) "
   ]
  },
  {
   "cell_type": "code",
   "execution_count": 69,
   "metadata": {
    "scrolled": true
   },
   "outputs": [
    {
     "name": "stdout",
     "output_type": "stream",
     "text": [
      "[[1. 1.]\n",
      " [1. 1.]\n",
      " [1. 1.]\n",
      " ...\n",
      " [0. 0.]\n",
      " [0. 0.]\n",
      " [0. 0.]]\n"
     ]
    }
   ],
   "source": [
    "y_pred_2 = handsomUtility.post_processing(classifier_2.predict(X_val.values))\n",
    "print(np.vstack((y_pred, y_pred_2)).T)"
   ]
  },
  {
   "cell_type": "code",
   "execution_count": null,
   "metadata": {},
   "outputs": [],
   "source": []
  },
  {
   "cell_type": "code",
   "execution_count": null,
   "metadata": {},
   "outputs": [],
   "source": []
  }
 ],
 "metadata": {
  "kernelspec": {
   "display_name": "Python 3",
   "language": "python",
   "name": "python3"
  },
  "language_info": {
   "codemirror_mode": {
    "name": "ipython",
    "version": 3
   },
   "file_extension": ".py",
   "mimetype": "text/x-python",
   "name": "python",
   "nbconvert_exporter": "python",
   "pygments_lexer": "ipython3",
   "version": "3.7.3"
  }
 },
 "nbformat": 4,
 "nbformat_minor": 2
}
